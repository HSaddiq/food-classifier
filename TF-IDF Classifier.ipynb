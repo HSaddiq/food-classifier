{
 "cells": [
  {
   "cell_type": "markdown",
   "metadata": {},
   "source": [
    "## Using Text Frequency - Inverse Document Frequency to Classify Recipes.\n",
    "### Abstract\n",
    "The algorithm TF-IDF has been used to simplify the dataset, such that common ingredients, with a high document frequency, are less priority with respect to ingredients that are more rare. The formalised equation has been shown below.\n",
    "\n",
    "\\begin{equation*}\n",
    "\\ w_{i,j}  = tf_{i,j} * log( \\frac{N}{df_{i}})\n",
    "\\end{equation*}\n",
    "\n",
    "Where w<sub>i,j</sub> is the weighted term for the word i in the document j, tf<sub>i,j</sub> is the number of occurences of that word i in the document j. N is the total number of documents, and df<sub>i</sub> is the number of occurences of the word i in all the documents. Since each ingredient will appear at most once in each recipe, the text frequency term in this formula can be replaced with 1."
   ]
  },
  {
   "cell_type": "code",
   "execution_count": 43,
   "metadata": {},
   "outputs": [],
   "source": [
    "import pandas as pd\n",
    "import json\n",
    "from collections import Set\n",
    "import numpy as np\n",
    "\n",
    "with open(\"data/train.json\") as json_file:\n",
    "    training_data = json.load(json_file)\n",
    "    \n",
    "    \n",
    "    #convert data dictionary to dataframe, with columns as ingredients \n",
    "    rows = []\n",
    "    \n",
    "    for i,data_point in enumerate(training_data):\n",
    "        data_row = {\"id\": data_point[\"id\"]}\n",
    "        \n",
    "        ingredients = data_point[\"ingredients\"]\n",
    "        \n",
    "        for ingredient in ingredients:\n",
    "            data_row[ingredient] = 1\n",
    "        \n",
    "        rows.append(data_row)\n",
    "            \n",
    "    id_with_ingredients = pd.DataFrame(rows)\n",
    "    id_with_ingredients.fillna(0, inplace=True)\n",
    "    id_with_ingredients.set_index(\"id\", inplace = True)"
   ]
  },
  {
   "cell_type": "code",
   "execution_count": 69,
   "metadata": {},
   "outputs": [],
   "source": [
    "#we need a function returning a dataframe of weighted values for each word in each document\n",
    "#The input should be a dataframe with terms present in the recipe showing 1 in the respective column\n",
    "#The output is a dataframe with weighted terms for each ingredient\n",
    "\n",
    "id_with_ingredients.head()\n",
    "def generate_tf_idf(input_df):\n",
    "    #Getting matrix of values for ingredients against recipes\n",
    "    value_matrix = input_df.values\n",
    "    output_matrix = np.zeros(value_matrix.shape)\n",
    "    number_of_documents = value_matrix.shape[0]\n",
    "    \n",
    "    #loop through ingredients\n",
    "    for i in range(value_matrix.shape[1]):\n",
    "        document_frequency = np.sum(value_matrix[:,i])\n",
    "        \n",
    "        #Use tf-idf formula to calculate weighted term, looping through each recipe \n",
    "        #Since there is only at most one example of an ingredient, we can just multiply by log(N/df_i)\n",
    "        \n",
    "        output_matrix[:,i] =  value_matrix[:,i] * np.log(number_of_documents/document_frequency)\n",
    "    \n",
    "    output_df = pd.DataFrame(data=output_matrix,\n",
    "          index=input_df.index.values,\n",
    "          columns=input_df.columns.values)\n",
    "    \n",
    "    return output_df\n",
    "\n",
    "tf_idf_df = generate_tf_idf(id_with_ingredients)"
   ]
  }
 ],
 "metadata": {
  "kernelspec": {
   "display_name": "Python 3",
   "language": "python",
   "name": "python3"
  },
  "language_info": {
   "codemirror_mode": {
    "name": "ipython",
    "version": 3
   },
   "file_extension": ".py",
   "mimetype": "text/x-python",
   "name": "python",
   "nbconvert_exporter": "python",
   "pygments_lexer": "ipython3",
   "version": "3.5.5"
  }
 },
 "nbformat": 4,
 "nbformat_minor": 2
}
