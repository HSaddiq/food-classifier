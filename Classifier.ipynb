{
 "cells": [
  {
   "cell_type": "code",
   "execution_count": 2,
   "metadata": {},
   "outputs": [],
   "source": [
    "import json\n",
    "from collections import Set\n",
    "import numpy as np\n",
    "\n",
    "with open(\"data/train.json\") as json_file:\n",
    "    training_data = json.load(json_file)\n",
    "    ingredient_set = []\n",
    "    cuisine_set = []\n",
    "    for data_point in training_data:\n",
    "        for ingredient in data_point[\"ingredients\"]:\n",
    "            ingredient_set.append(ingredient)\n",
    "            \n",
    "            cuisine_set.append(data_point[\"cuisine\"])\n",
    "    \n",
    "    ingredient_set = set(ingredient_set)\n",
    "    cuisine_set = set(cuisine_set)\n",
    "    \n",
    "    ingredient_array = list(ingredient_set)\n",
    "    cuisine_array = list(cuisine_set)\n",
    "    \n",
    "    #ingredient_array is a list of all possible ingredients in all recipes\n",
    "    #cuisine_array is a list of all possible cuisines in all recipes\n",
    "    \n",
    "    # setting up data_matrix\n",
    "    \n",
    "    training_input_matrix = np.empty(shape = (len(training_data),len(ingredient_array)))\n",
    "    training_output_matrix = np.empty(shape = (len(training_data),len(cuisine_array)))\n",
    "    \n",
    "    for i, data_point in enumerate(training_data):\n",
    "        ingredients = data_point[\"ingredients\"]\n",
    "        \n",
    "        ingredients_vector = np.zeros(shape=(len(ingredient_array)))\n",
    "        cuisine_vector = np.zeros(shape=(len(cuisine_array)))\n",
    "        \n",
    "        for ingredient in ingredients:\n",
    "            ingredients_vector[ingredient_array.index(ingredient)] = 1\n",
    "        \n",
    "        cuisine_vector[cuisine_array.index(data_point[\"cuisine\"])] = 1\n",
    "        \n",
    "        training_input_matrix[i] = ingredients_vector\n",
    "        training_output_matrix[i] = cuisine_vector\n"
   ]
  },
  {
   "cell_type": "code",
   "execution_count": 13,
   "metadata": {},
   "outputs": [
    {
     "name": "stdout",
     "output_type": "stream",
     "text": [
      "Train on 31819 samples, validate on 7955 samples\n",
      "Epoch 1/15\n",
      "31819/31819 [==============================] - 5s 160us/step - loss: 2.1411 - acc: 0.4447 - val_loss: 1.5340 - val_acc: 0.5915\n",
      "Epoch 2/15\n",
      "31819/31819 [==============================] - 4s 140us/step - loss: 1.2592 - acc: 0.6541 - val_loss: 1.0853 - val_acc: 0.6959\n",
      "Epoch 3/15\n",
      "31819/31819 [==============================] - 5s 142us/step - loss: 0.9400 - acc: 0.7386 - val_loss: 0.9198 - val_acc: 0.7419\n",
      "Epoch 4/15\n",
      "31819/31819 [==============================] - 4s 140us/step - loss: 0.7900 - acc: 0.7792 - val_loss: 0.8416 - val_acc: 0.7608\n",
      "Epoch 5/15\n",
      "31819/31819 [==============================] - 4s 138us/step - loss: 0.7002 - acc: 0.8022 - val_loss: 0.8064 - val_acc: 0.7684\n",
      "Epoch 6/15\n",
      "31819/31819 [==============================] - 4s 140us/step - loss: 0.6382 - acc: 0.8177 - val_loss: 0.7809 - val_acc: 0.7708\n",
      "Epoch 7/15\n",
      "31819/31819 [==============================] - 5s 142us/step - loss: 0.5913 - acc: 0.8294 - val_loss: 0.7682 - val_acc: 0.7795s -\n",
      "Epoch 8/15\n",
      "31819/31819 [==============================] - 4s 138us/step - loss: 0.5534 - acc: 0.8408 - val_loss: 0.7621 - val_acc: 0.7805\n",
      "Epoch 9/15\n",
      "31819/31819 [==============================] - 4s 140us/step - loss: 0.5220 - acc: 0.8483 - val_loss: 0.7640 - val_acc: 0.7803\n",
      "Epoch 10/15\n",
      "31819/31819 [==============================] - 4s 141us/step - loss: 0.4952 - acc: 0.8556 - val_loss: 0.7525 - val_acc: 0.7847\n",
      "Epoch 11/15\n",
      "31819/31819 [==============================] - 4s 138us/step - loss: 0.4721 - acc: 0.8619 - val_loss: 0.7604 - val_acc: 0.7815\n",
      "Epoch 12/15\n",
      "31819/31819 [==============================] - 4s 140us/step - loss: 0.4511 - acc: 0.8681 - val_loss: 0.7655 - val_acc: 0.7806\n",
      "Epoch 13/15\n",
      "31819/31819 [==============================] - 4s 139us/step - loss: 0.4319 - acc: 0.8732 - val_loss: 0.7741 - val_acc: 0.7816\n",
      "Epoch 14/15\n",
      "31819/31819 [==============================] - 4s 141us/step - loss: 0.4153 - acc: 0.8790 - val_loss: 0.7755 - val_acc: 0.7796\n",
      "Epoch 15/15\n",
      "31819/31819 [==============================] - 4s 140us/step - loss: 0.4000 - acc: 0.8827 - val_loss: 0.7784 - val_acc: 0.7811\n"
     ]
    }
   ],
   "source": [
    "from keras.models import Sequential\n",
    "from keras.layers import Dense, Activation\n",
    "\n",
    "def model_generator():\n",
    "    model = Sequential()\n",
    "    model.add(Dense(32, activation='relu', input_dim=len(ingredient_array)))\n",
    "    model.add(Dense(32, activation='relu'))\n",
    "    model.add(Dense(20, activation='softmax'))\n",
    "\n",
    "    model.compile(optimizer='rmsprop',\n",
    "                  loss='categorical_crossentropy',\n",
    "                  metrics=['accuracy'])\n",
    "    \n",
    "    return model\n",
    "\n",
    "intial_model = model_generator()\n",
    "history = intial_model.fit(training_input_matrix, training_output_matrix, validation_split=0.20, epochs=15, batch_size=256)"
   ]
  },
  {
   "cell_type": "code",
   "execution_count": 14,
   "metadata": {},
   "outputs": [
    {
     "data": {
      "image/png": "[encoded data removed]",
      "text/plain": [
       "<Figure size 432x288 with 1 Axes>"
      ]
     },
     "metadata": {},
     "output_type": "display_data"
    }
   ],
   "source": [
    "import matplotlib.pyplot as plt\n",
    "\n",
    "plt.plot(history.history[\"loss\"])\n",
    "plt.plot(history.history[\"val_loss\"])\n",
    "plt.show()"
   ]
  },
  {
   "cell_type": "code",
   "execution_count": 15,
   "metadata": {},
   "outputs": [
    {
     "name": "stdout",
     "output_type": "stream",
     "text": [
      "Train on 31819 samples, validate on 7955 samples\n",
      "Epoch 1/6\n",
      "31819/31819 [==============================] - 5s 159us/step - loss: 2.1080 - acc: 0.4565 - val_loss: 1.5024 - val_acc: 0.6146\n",
      "Epoch 2/6\n",
      "31819/31819 [==============================] - 4s 137us/step - loss: 1.2423 - acc: 0.6656 - val_loss: 1.0796 - val_acc: 0.6928\n",
      "Epoch 3/6\n",
      "31819/31819 [==============================] - 4s 138us/step - loss: 0.9429 - acc: 0.7364 - val_loss: 0.9267 - val_acc: 0.7350\n",
      "Epoch 4/6\n",
      "31819/31819 [==============================] - 4s 137us/step - loss: 0.8063 - acc: 0.7713 - val_loss: 0.8558 - val_acc: 0.7510\n",
      "Epoch 5/6\n",
      "31819/31819 [==============================] - 5s 144us/step - loss: 0.7212 - acc: 0.7951 - val_loss: 0.8186 - val_acc: 0.7677\n",
      "Epoch 6/6\n",
      "31819/31819 [==============================] - 4s 134us/step - loss: 0.6595 - acc: 0.8112 - val_loss: 0.7960 - val_acc: 0.7697\n"
     ]
    },
    {
     "data": {
      "text/plain": [
       "<keras.callbacks.History at 0x20824682048>"
      ]
     },
     "execution_count": 15,
     "metadata": {},
     "output_type": "execute_result"
    }
   ],
   "source": [
    "improved_model = model_generator()\n",
    "\n",
    "improved_model.fit(training_input_matrix, training_output_matrix, validation_split=0.20, epochs=6, batch_size=256)"
   ]
  },
  {
   "cell_type": "code",
   "execution_count": 33,
   "metadata": {},
   "outputs": [
    {
     "name": "stdout",
     "output_type": "stream",
     "text": [
      "(9944, 6714)\n"
     ]
    }
   ],
   "source": [
    "with open(\"data/test.json\") as json_file:\n",
    "    test_data = json.load(json_file)\n",
    "    \n",
    "    test_input_matrix = np.empty(shape = (len(test_data),len(ingredient_array)))\n",
    "    test_id_array = []\n",
    "    \n",
    "    for i, data_point in enumerate(test_data):\n",
    "        ingredients = data_point[\"ingredients\"]\n",
    "        \n",
    "        ingredients_vector = np.zeros(shape=(len(ingredient_array)))\n",
    "        \n",
    "        for ingredient in ingredients:\n",
    "            if ingredient in ingredient_array:\n",
    "                ingredients_vector[ingredient_array.index(ingredient)] = 1\n",
    "            \n",
    "        test_input_matrix[i] = ingredients_vector\n",
    "        test_id_array.append(data_point[\"id\"])\n",
    "        \n",
    "    print(test_input_matrix.shape)"
   ]
  },
  {
   "cell_type": "code",
   "execution_count": 37,
   "metadata": {},
   "outputs": [],
   "source": [
    "results = improved_model.predict(test_input_matrix)\n"
   ]
  },
  {
   "cell_type": "code",
   "execution_count": 38,
   "metadata": {},
   "outputs": [],
   "source": [
    "import csv\n",
    "\n",
    "with open('test_results.csv', mode='w') as test_results:\n",
    "    test_results = csv.writer(test_results, delimiter=',', quotechar='\"', quoting=csv.QUOTE_MINIMAL)\n",
    "\n",
    "    test_results.writerow([\"id\", \"cuisine\"])\n",
    "    \n",
    "    for i in range(len(test_id_array)):\n",
    "        result = [test_id_array[i], cuisine_array[np.argmax(results[i])]]\n",
    "        test_results.writerow(result)"
   ]
  }
 ],
 "metadata": {
  "kernelspec": {
   "display_name": "Python 3",
   "language": "python",
   "name": "python3"
  },
  "language_info": {
   "codemirror_mode": {
    "name": "ipython",
    "version": 3
   },
   "file_extension": ".py",
   "mimetype": "text/x-python",
   "name": "python",
   "nbconvert_exporter": "python",
   "pygments_lexer": "ipython3",
   "version": "3.5.5"
  }
 },
 "nbformat": 4,
 "nbformat_minor": 2
}
