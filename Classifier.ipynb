{
 "cells": [
  {
   "cell_type": "code",
   "execution_count": 2,
   "metadata": {},
   "outputs": [],
   "source": [
    "import json\n",
    "from collections import Set\n",
    "import numpy as np\n",
    "\n",
    "with open(\"data/train.json\") as json_file:\n",
    "    training_data = json.load(json_file)\n",
    "    ingredient_set = []\n",
    "    cuisine_set = []\n",
    "    for data_point in training_data:\n",
    "        for ingredient in data_point[\"ingredients\"]:\n",
    "            ingredient_set.append(ingredient)\n",
    "            \n",
    "            cuisine_set.append(data_point[\"cuisine\"])\n",
    "    \n",
    "    ingredient_set = set(ingredient_set)\n",
    "    cuisine_set = set(cuisine_set)\n",
    "    \n",
    "    ingredient_array = list(ingredient_set)\n",
    "    cuisine_array = list(cuisine_set)\n",
    "    \n",
    "    #ingredient_array is a list of all possible ingredients in all recipes\n",
    "    #cuisine_array is a list of all possible cuisines in all recipes\n",
    "    \n",
    "    # setting up data_matrix\n",
    "    \n",
    "    training_input_matrix = np.empty(shape = (len(training_data),len(ingredient_array)))\n",
    "    training_output_matrix = np.empty(shape = (len(training_data),len(cuisine_array)))\n",
    "    \n",
    "    for i, data_point in enumerate(training_data):\n",
    "        ingredients = data_point[\"ingredients\"]\n",
    "        \n",
    "        ingredients_vector = np.zeros(shape=(len(ingredient_array)))\n",
    "        cuisine_vector = np.zeros(shape=(len(cuisine_array)))\n",
    "        \n",
    "        for ingredient in ingredients:\n",
    "            ingredients_vector[ingredient_array.index(ingredient)] = 1\n",
    "        \n",
    "        cuisine_vector[cuisine_array.index(data_point[\"cuisine\"])] = 1\n",
    "        \n",
    "        training_input_matrix[i] = ingredients_vector\n",
    "        training_output_matrix[i] = cuisine_vector\n"
   ]
  },
  {
   "cell_type": "code",
   "execution_count": 7,
   "metadata": {},
   "outputs": [
    {
     "name": "stdout",
     "output_type": "stream",
     "text": [
      "Train on 31819 samples, validate on 7955 samples\n",
      "Epoch 1/20\n",
      "31819/31819 [==============================] - 5s 155us/step - loss: 2.1356 - acc: 0.4767 - val_loss: 1.4755 - val_acc: 0.5964\n",
      "Epoch 2/20\n",
      "31819/31819 [==============================] - 4s 131us/step - loss: 1.2030 - acc: 0.6684 - val_loss: 1.0395 - val_acc: 0.7004\n",
      "Epoch 3/20\n",
      "31819/31819 [==============================] - 4s 133us/step - loss: 0.9053 - acc: 0.7421 - val_loss: 0.8909 - val_acc: 0.7453\n",
      "Epoch 4/20\n",
      "31819/31819 [==============================] - 4s 135us/step - loss: 0.7709 - acc: 0.7804 - val_loss: 0.8245 - val_acc: 0.7659\n",
      "Epoch 5/20\n",
      "31819/31819 [==============================] - 5s 150us/step - loss: 0.6900 - acc: 0.8019 - val_loss: 0.7952 - val_acc: 0.7684\n",
      "Epoch 6/20\n",
      "31819/31819 [==============================] - 4s 137us/step - loss: 0.6323 - acc: 0.8159 - val_loss: 0.7752 - val_acc: 0.7740\n",
      "Epoch 7/20\n",
      "31819/31819 [==============================] - 4s 131us/step - loss: 0.5881 - acc: 0.8284 - val_loss: 0.7571 - val_acc: 0.7829\n",
      "Epoch 8/20\n",
      "31819/31819 [==============================] - 4s 135us/step - loss: 0.5524 - acc: 0.8389 - val_loss: 0.7600 - val_acc: 0.7791\n",
      "Epoch 9/20\n",
      "31819/31819 [==============================] - 4s 141us/step - loss: 0.5225 - acc: 0.8469 - val_loss: 0.7542 - val_acc: 0.7869\n",
      "Epoch 10/20\n",
      "31819/31819 [==============================] - 5s 142us/step - loss: 0.4964 - acc: 0.8544 - val_loss: 0.7556 - val_acc: 0.7832\n",
      "Epoch 11/20\n",
      "31819/31819 [==============================] - 6s 180us/step - loss: 0.4737 - acc: 0.8601 - val_loss: 0.7582 - val_acc: 0.7849\n",
      "Epoch 12/20\n",
      "31819/31819 [==============================] - 6s 179us/step - loss: 0.4537 - acc: 0.8667 - val_loss: 0.7562 - val_acc: 0.7858\n",
      "Epoch 13/20\n",
      "31819/31819 [==============================] - 4s 135us/step - loss: 0.4359 - acc: 0.8731 - val_loss: 0.7629 - val_acc: 0.7830\n",
      "Epoch 14/20\n",
      "31819/31819 [==============================] - 4s 139us/step - loss: 0.4192 - acc: 0.8785 - val_loss: 0.7727 - val_acc: 0.7837\n",
      "Epoch 15/20\n",
      "31819/31819 [==============================] - 4s 134us/step - loss: 0.4036 - acc: 0.8824 - val_loss: 0.7771 - val_acc: 0.7867\n",
      "Epoch 16/20\n",
      "31819/31819 [==============================] - 5s 141us/step - loss: 0.3896 - acc: 0.8847 - val_loss: 0.7856 - val_acc: 0.7837\n",
      "Epoch 17/20\n",
      "31819/31819 [==============================] - 4s 132us/step - loss: 0.3769 - acc: 0.8882 - val_loss: 0.7952 - val_acc: 0.7849\n",
      "Epoch 18/20\n",
      "31819/31819 [==============================] - 4s 132us/step - loss: 0.3646 - acc: 0.8928 - val_loss: 0.8082 - val_acc: 0.7793\n",
      "Epoch 19/20\n",
      "31819/31819 [==============================] - 4s 129us/step - loss: 0.3533 - acc: 0.8961 - val_loss: 0.8122 - val_acc: 0.7811\n",
      "Epoch 20/20\n",
      "31819/31819 [==============================] - 4s 130us/step - loss: 0.3423 - acc: 0.8978 - val_loss: 0.8190 - val_acc: 0.7813\n"
     ]
    }
   ],
   "source": [
    "from keras.models import Sequential\n",
    "from keras.layers import Dense, Activation\n",
    "\n",
    "model = Sequential()\n",
    "model.add(Dense(32, activation='relu', input_dim=len(ingredient_array)))\n",
    "model.add(Dense(32, activation='relu'))\n",
    "model.add(Dense(20, activation='softmax'))\n",
    "\n",
    "model.compile(optimizer='rmsprop',\n",
    "              loss='categorical_crossentropy',\n",
    "              metrics=['accuracy'])\n",
    "\n",
    "history = model.fit(training_input_matrix, training_output_matrix, validation_split=0.20, epochs=20, batch_size=256)"
   ]
  },
  {
   "cell_type": "code",
   "execution_count": 11,
   "metadata": {},
   "outputs": [
    {
     "data": {
      "image/png": "[encoded data removed]",
      "text/plain": [
       "<Figure size 432x288 with 1 Axes>"
      ]
     },
     "metadata": {},
     "output_type": "display_data"
    }
   ],
   "source": [
    "import matplotlib.pyplot as plt\n",
    "\n",
    "plt.plot(history.history[\"loss\"])\n",
    "plt.plot(history.history[\"val_loss\"])\n",
    "plt.show()"
   ]
  }
 ],
 "metadata": {
  "kernelspec": {
   "display_name": "Python 3",
   "language": "python",
   "name": "python3"
  },
  "language_info": {
   "codemirror_mode": {
    "name": "ipython",
    "version": 3
   },
   "file_extension": ".py",
   "mimetype": "text/x-python",
   "name": "python",
   "nbconvert_exporter": "python",
   "pygments_lexer": "ipython3",
   "version": "3.5.5"
  }
 },
 "nbformat": 4,
 "nbformat_minor": 2
}
